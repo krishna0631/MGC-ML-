{
 "cells": [
  {
   "cell_type": "code",
   "execution_count": 17,
   "id": "be02f5d2",
   "metadata": {},
   "outputs": [],
   "source": [
    "import os\n",
    "import librosa\n",
    "import numpy as np\n",
    "from sklearn.model_selection import train_test_split\n",
    "from sklearn.preprocessing import LabelEncoder\n",
    "from sklearn.ensemble import RandomForestClassifier"
   ]
  },
  {
   "cell_type": "code",
   "execution_count": 18,
   "id": "a9192c82",
   "metadata": {},
   "outputs": [],
   "source": [
    "# Load dataset\n",
    "DATASET_PATH = \"C:/Users/krishna kaanth reddy/Downloads/college/archive/Data/genres_original\"\n",
    "#genres = ['blues', 'classical', 'country', 'disco', 'hiphop', 'jazz', 'metal', 'pop', 'reggae', 'rock']\n",
    "def load_dataset(dataset_path):\n",
    "    X = []\n",
    "    y = []\n",
    "    for folder in os.listdir(dataset_path):\n",
    "        folder_path = os.path.join(dataset_path, folder)\n",
    "        if os.path.isdir(folder_path):\n",
    "            for filename in os.listdir(folder_path):\n",
    "                file_path = os.path.join(folder_path, filename)\n",
    "                if filename.endswith(\".wav\"):\n",
    "                    # Load audio file\n",
    "                    signal, sr = librosa.load(file_path, sr=22050)\n",
    "                    # Extract features\n",
    "                    mfccs = librosa.feature.mfcc(y=signal, sr=sr, n_mfcc=13)\n",
    "                    mfccs_mean = np.mean(mfccs, axis=1)\n",
    "                    # Add to dataset\n",
    "                    X.append(mfccs_mean)\n",
    "                    y.append(folder)\n",
    "    return np.array(X), np.array(y)\n",
    "\n",
    "X, y = load_dataset(DATASET_PATH)"
   ]
  },
  {
   "cell_type": "code",
   "execution_count": 19,
   "id": "65f0197f",
   "metadata": {},
   "outputs": [],
   "source": [
    "# Encode labels\n",
    "le = LabelEncoder()\n",
    "y_encoded = le.fit_transform(y)"
   ]
  },
  {
   "cell_type": "code",
   "execution_count": 20,
   "id": "10029462",
   "metadata": {},
   "outputs": [],
   "source": [
    "# Split dataset into training and testing sets\n",
    "X_train, X_test, y_train, y_test = train_test_split(X, y_encoded, test_size=0.2, random_state=42)\n"
   ]
  },
  {
   "cell_type": "code",
   "execution_count": 21,
   "id": "9d2646ba",
   "metadata": {},
   "outputs": [
    {
     "data": {
      "text/plain": [
       "RandomForestClassifier(random_state=42)"
      ]
     },
     "execution_count": 21,
     "metadata": {},
     "output_type": "execute_result"
    }
   ],
   "source": [
    "# Train machine learning model\n",
    "model = RandomForestClassifier(n_estimators=100, random_state=42)\n",
    "model.fit(X_train, y_train)"
   ]
  },
  {
   "cell_type": "code",
   "execution_count": 22,
   "id": "ad8709f2",
   "metadata": {
    "scrolled": false
   },
   "outputs": [
    {
     "name": "stdout",
     "output_type": "stream",
     "text": [
      "Train accuracy: 1.0\n",
      "Test accuracy: 0.79\n"
     ]
    }
   ],
   "source": [
    "# Evaluate model performance\n",
    "train_accuracy = model.score(X_train, y_train)\n",
    "test_accuracy = model.score(X_test, y_test)\n",
    "print(f\"Train accuracy: {train_accuracy}\")\n",
    "print(f\"Test accuracy: {test_accuracy1}\")"
   ]
  },
  {
   "cell_type": "code",
   "execution_count": 23,
   "id": "62742960",
   "metadata": {},
   "outputs": [
    {
     "name": "stdout",
     "output_type": "stream",
     "text": [
      "Input shape: (1, 13)\n",
      "Predicted label: [3]\n",
      "Predicted class: disco\n",
      "Label encoder classes: ['blues' 'classical' 'country' 'disco' 'hiphop' 'jazz' 'metal' 'pop'\n",
      " 'reggae' 'rock']\n",
      "Label encoder mapping: {'blues': 0, 'classical': 1, 'country': 2, 'disco': 3, 'hiphop': 4, 'jazz': 5, 'metal': 6, 'pop': 7, 'reggae': 8, 'rock': 9}\n"
     ]
    }
   ],
   "source": [
    "# Load the new audio file\n",
    "new_audio_file = \"C:/Users/krishna kaanth reddy/Downloads/college/archive/Data/sample_1/rl.wav\"\n",
    "signal, sr = librosa.load(new_audio_file, sr=22050)\n",
    "\n",
    "# Extract features\n",
    "mfccs = librosa.feature.mfcc(y=signal, sr=sr, n_mfcc=13)\n",
    "mfccs_mean = np.mean(mfccs, axis=1)\n",
    "\n",
    "# Reshape features\n",
    "mfccs_mean = mfccs_mean.reshape(1, -1)\n",
    "\n",
    "# Make prediction\n",
    "predicted_label = model.predict(mfccs_mean)\n",
    "\n",
    "# Convert predicted label to original class label\n",
    "predicted_class = le.inverse_transform(predicted_label)[0]\n",
    "\n",
    "# Debugging statements\n",
    "print(f\"Input shape: {mfccs_mean.shape}\")\n",
    "print(f\"Predicted label: {predicted_label}\")\n",
    "print(f\"Predicted class: {predicted_class}\")\n",
    "print(f\"Label encoder classes: {le.classes_}\")\n",
    "print(f\"Label encoder mapping: {dict(zip(le.classes_, le.transform(le.classes_)))}\")\n"
   ]
  },
  {
   "cell_type": "code",
   "execution_count": 34,
   "id": "7b028aac",
   "metadata": {},
   "outputs": [
    {
     "name": "stdout",
     "output_type": "stream",
     "text": [
      "Predicted genre: ['disco']\n"
     ]
    }
   ],
   "source": [
    "#Make prediction on new audio file\n",
    "file_path = \"C:/Users/krishna kaanth reddy/Downloads/college/archive/Data/sample_1/rl.wav\"\n",
    "signal, sr = librosa.load(file_path, sr=22050)\n",
    "mfccs = librosa.feature.mfcc(y=signal, sr=sr, n_mfcc=13)\n",
    "mfccs_mean = np.mean(mfccs, axis=1)\n",
    "X_new = np.array([mfccs_mean])\n",
    "y_pred = model.predict(X_new)\n",
    "print(f\"Predicted genre: {le.inverse_transform(y_pred)}\")"
   ]
  },
  {
   "cell_type": "code",
   "execution_count": 35,
   "id": "659389c7",
   "metadata": {},
   "outputs": [
    {
     "name": "stdout",
     "output_type": "stream",
     "text": [
      "Predicted genre: ['classical']\n"
     ]
    }
   ],
   "source": [
    "#Make prediction on new audio file\n",
    "file_path = \"C:/Users/krishna kaanth reddy/Downloads/college/archive/Data/sample_1/r2.wav\"\n",
    "signal, sr = librosa.load(file_path, sr=22050)\n",
    "mfccs = librosa.feature.mfcc(y=signal, sr=sr, n_mfcc=13)\n",
    "mfccs_mean = np.mean(mfccs, axis=1)\n",
    "X_new = np.array([mfccs_mean])\n",
    "y_pred = model.predict(X_new)\n",
    "print(f\"Predicted genre: {le.inverse_transform(y_pred)}\")"
   ]
  },
  {
   "cell_type": "code",
   "execution_count": 36,
   "id": "16070895",
   "metadata": {},
   "outputs": [
    {
     "name": "stdout",
     "output_type": "stream",
     "text": [
      "Predicted genre: ['reggae']\n"
     ]
    }
   ],
   "source": [
    "#Make prediction on new audio file\n",
    "file_path = \"C:/Users/krishna kaanth reddy/Downloads/college/archive/Data/sample_1/r3.wav\"\n",
    "signal, sr = librosa.load(file_path, sr=22050)\n",
    "mfccs = librosa.feature.mfcc(y=signal, sr=sr, n_mfcc=13)\n",
    "mfccs_mean = np.mean(mfccs, axis=1)\n",
    "X_new = np.array([mfccs_mean])\n",
    "y_pred = model.predict(X_new)\n",
    "print(f\"Predicted genre: {le.inverse_transform(y_pred)}\")"
   ]
  },
  {
   "cell_type": "code",
   "execution_count": 37,
   "id": "128a3f4f",
   "metadata": {},
   "outputs": [
    {
     "name": "stdout",
     "output_type": "stream",
     "text": [
      "Predicted genre: ['disco']\n"
     ]
    }
   ],
   "source": [
    "#Make prediction on new audio file\n",
    "file_path = \"C:/Users/krishna kaanth reddy/Downloads/college/archive/Data/sample_1/r4.wav\"\n",
    "signal, sr = librosa.load(file_path, sr=22050)\n",
    "mfccs = librosa.feature.mfcc(y=signal, sr=sr, n_mfcc=13)\n",
    "mfccs_mean = np.mean(mfccs, axis=1)\n",
    "X_new = np.array([mfccs_mean])\n",
    "y_pred = model.predict(X_new)\n",
    "print(f\"Predicted genre: {le.inverse_transform(y_pred)}\")"
   ]
  },
  {
   "cell_type": "code",
   "execution_count": 38,
   "id": "85b4ea2b",
   "metadata": {},
   "outputs": [
    {
     "name": "stdout",
     "output_type": "stream",
     "text": [
      "Predicted genre: ['reggae']\n"
     ]
    }
   ],
   "source": [
    "#Make prediction on new audio file\n",
    "file_path = \"C:/Users/krishna kaanth reddy/Downloads/college/archive/Data/sample_1/r5.wav\"\n",
    "signal, sr = librosa.load(file_path, sr=22050)\n",
    "mfccs = librosa.feature.mfcc(y=signal, sr=sr, n_mfcc=13)\n",
    "mfccs_mean = np.mean(mfccs, axis=1)\n",
    "X_new = np.array([mfccs_mean])\n",
    "y_pred = model.predict(X_new)\n",
    "print(f\"Predicted genre: {le.inverse_transform(y_pred)}\")"
   ]
  },
  {
   "cell_type": "code",
   "execution_count": 39,
   "id": "83cc10a4",
   "metadata": {},
   "outputs": [
    {
     "name": "stdout",
     "output_type": "stream",
     "text": [
      "Predicted genre: ['country']\n"
     ]
    }
   ],
   "source": [
    "#Make prediction on new audio file\n",
    "file_path = \"C:/Users/krishna kaanth reddy/Downloads/college/archive/Data/sample_1/r6.wav\"\n",
    "signal, sr = librosa.load(file_path, sr=22050)\n",
    "mfccs = librosa.feature.mfcc(y=signal, sr=sr, n_mfcc=13)\n",
    "mfccs_mean = np.mean(mfccs, axis=1)\n",
    "X_new = np.array([mfccs_mean])\n",
    "y_pred = model.predict(X_new)\n",
    "print(f\"Predicted genre: {le.inverse_transform(y_pred)}\")"
   ]
  },
  {
   "cell_type": "code",
   "execution_count": 25,
   "id": "63986078",
   "metadata": {},
   "outputs": [
    {
     "name": "stdout",
     "output_type": "stream",
     "text": [
      "Predicted genre: ['disco']\n"
     ]
    }
   ],
   "source": [
    "#Make prediction on new audio file\n",
    "file_path = \"C:/Users/krishna kaanth reddy/Downloads/college/archive/Data/hhh/abc.wav\"\n",
    "signal, sr = librosa.load(file_path, sr=22050)\n",
    "mfccs = librosa.feature.mfcc(y=signal, sr=sr, n_mfcc=13)\n",
    "mfccs_mean = np.mean(mfccs, axis=1)\n",
    "X_new = np.array([mfccs_mean])\n",
    "y_pred = model.predict(X_new)\n",
    "print(f\"Predicted genre: {le.inverse_transform(y_pred)}\")"
   ]
  },
  {
   "cell_type": "code",
   "execution_count": 40,
   "id": "11fcc005",
   "metadata": {},
   "outputs": [
    {
     "name": "stdout",
     "output_type": "stream",
     "text": [
      "Cross-validation scores: [0.37      0.535     0.475     0.425     0.3919598]\n",
      "Average cross-validation score: 0.4393919597989949\n"
     ]
    }
   ],
   "source": [
    "# Test model performance with cross validation\n",
    "from sklearn.model_selection import cross_val_score\n",
    "scores = cross_val_score(model, X, y_encoded, cv=5)\n",
    "print(f\"Cross-validation scores: {scores}\")\n",
    "print(f\"Average cross-validation score: {np.mean(scores)}\")"
   ]
  },
  {
   "cell_type": "code",
   "execution_count": 41,
   "id": "68ccc483",
   "metadata": {},
   "outputs": [
    {
     "name": "stdout",
     "output_type": "stream",
     "text": [
      "              precision    recall  f1-score   support\n",
      "\n",
      "       blues       0.17      0.14      0.15        21\n",
      "   classical       0.75      1.00      0.86        12\n",
      "     country       0.44      0.17      0.24        24\n",
      "       disco       1.00      0.05      0.09        22\n",
      "      hiphop       0.33      0.40      0.36        15\n",
      "        jazz       0.70      0.59      0.64        27\n",
      "       metal       0.46      0.89      0.60        18\n",
      "         pop       0.46      0.84      0.59        19\n",
      "      reggae       0.37      0.32      0.34        22\n",
      "        rock       0.23      0.30      0.26        20\n",
      "\n",
      "    accuracy                           0.43       200\n",
      "   macro avg       0.49      0.47      0.41       200\n",
      "weighted avg       0.49      0.43      0.39       200\n",
      "\n"
     ]
    }
   ],
   "source": [
    "from sklearn.svm import SVC\n",
    "from sklearn.metrics import classification_report\n",
    "\n",
    "# Train SVM with RBF kernel\n",
    "svm = SVC(kernel='rbf')\n",
    "svm.fit(X_train, y_train)\n",
    "\n",
    "# Evaluate on test set\n",
    "y_pred = svm.predict(X_test)\n",
    "print(classification_report(y_test, y_pred, target_names=le.classes_))"
   ]
  },
  {
   "cell_type": "code",
   "execution_count": null,
   "id": "84af0a7e",
   "metadata": {},
   "outputs": [],
   "source": []
  }
 ],
 "metadata": {
  "kernelspec": {
   "display_name": "Python 3 (ipykernel)",
   "language": "python",
   "name": "python3"
  },
  "language_info": {
   "codemirror_mode": {
    "name": "ipython",
    "version": 3
   },
   "file_extension": ".py",
   "mimetype": "text/x-python",
   "name": "python",
   "nbconvert_exporter": "python",
   "pygments_lexer": "ipython3",
   "version": "3.9.7"
  }
 },
 "nbformat": 4,
 "nbformat_minor": 5
}
